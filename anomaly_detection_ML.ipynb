{
 "cells": [
  {
   "cell_type": "markdown",
   "metadata": {},
   "source": [
    "# Anomaly / Outlier / Novelty Detection"
   ]
  },
  {
   "cell_type": "markdown",
   "metadata": {},
   "source": [
    "**In some cases, training data contain anomalies.  These are a minority of all training observations.**\n",
    "\n",
    "**In other cases, training data contain only regular, non-deviant observations.**"
   ]
  },
  {
   "cell_type": "code",
   "execution_count": 2,
   "metadata": {
    "ExecuteTime": {
     "end_time": "2018-09-12T20:20:40.915111Z",
     "start_time": "2018-09-12T20:20:40.911344Z"
    }
   },
   "outputs": [],
   "source": [
    "import numpy as np\n",
    "import matplotlib.pyplot as plt"
   ]
  },
  {
   "cell_type": "markdown",
   "metadata": {},
   "source": [
    "## Isolation Forests"
   ]
  },
  {
   "cell_type": "markdown",
   "metadata": {},
   "source": [
    "**The idea is to isolate individual observations.  For each observation, we measure the number of splits (\"path length\") required to isolate it, then find the average path length across trees in the forest.  Average path length (APL) is thresholded: observations with APL below this threshold are declared to be anomalies.**"
   ]
  },
  {
   "cell_type": "code",
   "execution_count": 4,
   "metadata": {
    "ExecuteTime": {
     "end_time": "2018-09-12T20:23:50.258713Z",
     "start_time": "2018-09-12T20:23:50.255261Z"
    }
   },
   "outputs": [],
   "source": [
    "import warnings\n",
    "warnings.filterwarnings('ignore')"
   ]
  },
  {
   "cell_type": "code",
   "execution_count": 28,
   "metadata": {
    "ExecuteTime": {
     "end_time": "2018-09-12T20:40:17.645819Z",
     "start_time": "2018-09-12T20:40:17.642383Z"
    }
   },
   "outputs": [],
   "source": [
    "rng = np.random.RandomState(42) # for reproducibility"
   ]
  },
  {
   "cell_type": "code",
   "execution_count": 21,
   "metadata": {
    "ExecuteTime": {
     "end_time": "2018-09-12T20:34:55.813102Z",
     "start_time": "2018-09-12T20:34:55.809055Z"
    }
   },
   "outputs": [],
   "source": [
    "from sklearn.ensemble import IsolationForest"
   ]
  },
  {
   "cell_type": "code",
   "execution_count": 29,
   "metadata": {
    "ExecuteTime": {
     "end_time": "2018-09-12T20:40:38.808720Z",
     "start_time": "2018-09-12T20:40:38.805041Z"
    }
   },
   "outputs": [],
   "source": [
    "# GENERATE SYNTHETIC DATA\n",
    "X = 0.3 * rng.randn(100,2)\n",
    "# 100 ordered pairs drawn from standard normal distribution, then multiplied by 0.3\n",
    "# Why 0.3?"
   ]
  },
  {
   "cell_type": "code",
   "execution_count": 30,
   "metadata": {
    "ExecuteTime": {
     "end_time": "2018-09-12T20:40:41.306016Z",
     "start_time": "2018-09-12T20:40:41.302089Z"
    }
   },
   "outputs": [],
   "source": [
    "X_train = np.r_[X+2,X-2]\n",
    "# 200 ordered pairs, 100 clustered near (2,2) and 100 clustered near (-2,-2)"
   ]
  },
  {
   "cell_type": "code",
   "execution_count": 31,
   "metadata": {
    "ExecuteTime": {
     "end_time": "2018-09-12T20:40:42.260660Z",
     "start_time": "2018-09-12T20:40:42.255636Z"
    }
   },
   "outputs": [
    {
     "data": {
      "text/plain": [
       "(200, 2)"
      ]
     },
     "execution_count": 31,
     "metadata": {},
     "output_type": "execute_result"
    }
   ],
   "source": [
    "X_train.shape"
   ]
  },
  {
   "cell_type": "code",
   "execution_count": 32,
   "metadata": {
    "ExecuteTime": {
     "end_time": "2018-09-12T20:40:46.360369Z",
     "start_time": "2018-09-12T20:40:46.356987Z"
    }
   },
   "outputs": [],
   "source": [
    "X = 0.3 * rng.randn(20,2)"
   ]
  },
  {
   "cell_type": "code",
   "execution_count": 33,
   "metadata": {
    "ExecuteTime": {
     "end_time": "2018-09-12T20:40:47.119047Z",
     "start_time": "2018-09-12T20:40:47.115439Z"
    }
   },
   "outputs": [],
   "source": [
    "X_test_reg = np.r_[X + 2, X - 2]"
   ]
  },
  {
   "cell_type": "code",
   "execution_count": 34,
   "metadata": {
    "ExecuteTime": {
     "end_time": "2018-09-12T20:40:47.735854Z",
     "start_time": "2018-09-12T20:40:47.730632Z"
    }
   },
   "outputs": [
    {
     "data": {
      "text/plain": [
       "(40, 2)"
      ]
     },
     "execution_count": 34,
     "metadata": {},
     "output_type": "execute_result"
    }
   ],
   "source": [
    "X_test_reg.shape"
   ]
  },
  {
   "cell_type": "code",
   "execution_count": 36,
   "metadata": {
    "ExecuteTime": {
     "end_time": "2018-09-12T20:42:21.807850Z",
     "start_time": "2018-09-12T20:42:21.804811Z"
    }
   },
   "outputs": [],
   "source": [
    "X_test_anom = rng.uniform(low = -4, high = +4, size = (20,2))\n",
    "# Now drawing 20 ordered pairs, with the 40 numbers uniformly distributed between -4 and 4"
   ]
  },
  {
   "cell_type": "code",
   "execution_count": 37,
   "metadata": {
    "ExecuteTime": {
     "end_time": "2018-09-12T20:42:26.900048Z",
     "start_time": "2018-09-12T20:42:26.895313Z"
    }
   },
   "outputs": [
    {
     "data": {
      "text/plain": [
       "(20, 2)"
      ]
     },
     "execution_count": 37,
     "metadata": {},
     "output_type": "execute_result"
    }
   ],
   "source": [
    "X_test_anom.shape"
   ]
  },
  {
   "cell_type": "code",
   "execution_count": 92,
   "metadata": {
    "ExecuteTime": {
     "end_time": "2018-09-13T02:16:48.672998Z",
     "start_time": "2018-09-13T02:16:48.668279Z"
    }
   },
   "outputs": [],
   "source": [
    "# Instantiate an IsolationForest object\n",
    "model = IsolationForest(max_samples=100, random_state=rng, n_estimators=100, contamination=0.1, verbose=1)\n",
    "# 100 samples (out of 200 total) used in each tree\n",
    "# 100 total trees\n",
    "# Does contamination refer only to the training set?  If so, shouldn't contamination = 0?\n",
    "# Perhaps contamination = 0 would lead to overfitting.\n",
    "# max_features = 1; only have 2 total features"
   ]
  },
  {
   "cell_type": "code",
   "execution_count": 93,
   "metadata": {
    "ExecuteTime": {
     "end_time": "2018-09-13T02:16:49.576421Z",
     "start_time": "2018-09-13T02:16:49.450071Z"
    }
   },
   "outputs": [
    {
     "name": "stderr",
     "output_type": "stream",
     "text": [
      "[Parallel(n_jobs=1)]: Done   1 out of   1 | elapsed:    0.1s finished\n"
     ]
    },
    {
     "data": {
      "text/plain": [
       "IsolationForest(bootstrap=False, contamination=0.1, max_features=1.0,\n",
       "        max_samples=100, n_estimators=100, n_jobs=1,\n",
       "        random_state=<mtrand.RandomState object at 0x1a136f3678>,\n",
       "        verbose=1)"
      ]
     },
     "execution_count": 93,
     "metadata": {},
     "output_type": "execute_result"
    }
   ],
   "source": [
    "model.fit(X_train)\n",
    "# Is this unsupervised, or is it just a one-class problem, since all training samples belong to the \"regular\" class?\n",
    "# sample_weight = None"
   ]
  },
  {
   "cell_type": "code",
   "execution_count": 94,
   "metadata": {
    "ExecuteTime": {
     "end_time": "2018-09-13T02:16:54.059411Z",
     "start_time": "2018-09-13T02:16:54.022622Z"
    }
   },
   "outputs": [],
   "source": [
    "y_pred_train = model.predict(X_train)"
   ]
  },
  {
   "cell_type": "code",
   "execution_count": 95,
   "metadata": {
    "ExecuteTime": {
     "end_time": "2018-09-13T02:16:55.023397Z",
     "start_time": "2018-09-13T02:16:55.017977Z"
    }
   },
   "outputs": [
    {
     "data": {
      "text/plain": [
       "(array([-1,  1]), array([ 20, 180]))"
      ]
     },
     "execution_count": 95,
     "metadata": {},
     "output_type": "execute_result"
    }
   ],
   "source": [
    "np.unique(y_pred_train, return_counts = True)\n",
    "# -1 signifies outlier, +1 signifies inlier\n",
    "# So 10% of training data identified as anomalous."
   ]
  },
  {
   "cell_type": "code",
   "execution_count": 96,
   "metadata": {
    "ExecuteTime": {
     "end_time": "2018-09-13T02:16:59.141681Z",
     "start_time": "2018-09-13T02:16:59.105617Z"
    }
   },
   "outputs": [],
   "source": [
    "y_pred_test_reg = model.predict(X_test_reg)"
   ]
  },
  {
   "cell_type": "code",
   "execution_count": 97,
   "metadata": {
    "ExecuteTime": {
     "end_time": "2018-09-13T02:16:59.804614Z",
     "start_time": "2018-09-13T02:16:59.799210Z"
    }
   },
   "outputs": [
    {
     "data": {
      "text/plain": [
       "(array([-1,  1]), array([ 6, 34]))"
      ]
     },
     "execution_count": 97,
     "metadata": {},
     "output_type": "execute_result"
    }
   ],
   "source": [
    "np.unique(y_pred_test_reg, return_counts = True)"
   ]
  },
  {
   "cell_type": "code",
   "execution_count": 98,
   "metadata": {
    "ExecuteTime": {
     "end_time": "2018-09-13T02:17:01.540777Z",
     "start_time": "2018-09-13T02:17:01.511355Z"
    }
   },
   "outputs": [],
   "source": [
    "y_pred_test_anom = model.predict(X_test_anom)"
   ]
  },
  {
   "cell_type": "code",
   "execution_count": 99,
   "metadata": {
    "ExecuteTime": {
     "end_time": "2018-09-13T02:17:02.086771Z",
     "start_time": "2018-09-13T02:17:02.081679Z"
    }
   },
   "outputs": [
    {
     "data": {
      "text/plain": [
       "(array([-1,  1]), array([18,  2]))"
      ]
     },
     "execution_count": 99,
     "metadata": {},
     "output_type": "execute_result"
    }
   ],
   "source": [
    "np.unique(y_pred_test_anom, return_counts = True) # 18 out of 20 identified as anomalies - impressive!"
   ]
  },
  {
   "cell_type": "code",
   "execution_count": 100,
   "metadata": {
    "ExecuteTime": {
     "end_time": "2018-09-13T02:17:03.752881Z",
     "start_time": "2018-09-13T02:17:03.747869Z"
    }
   },
   "outputs": [
    {
     "data": {
      "text/plain": [
       "100"
      ]
     },
     "execution_count": 100,
     "metadata": {},
     "output_type": "execute_result"
    }
   ],
   "source": [
    "model.max_samples_"
   ]
  },
  {
   "cell_type": "code",
   "execution_count": 101,
   "metadata": {
    "ExecuteTime": {
     "end_time": "2018-09-13T02:17:06.851881Z",
     "start_time": "2018-09-13T02:17:06.812472Z"
    }
   },
   "outputs": [],
   "source": [
    "anomaly_scores = model.decision_function(X_train)"
   ]
  },
  {
   "cell_type": "code",
   "execution_count": 102,
   "metadata": {
    "ExecuteTime": {
     "end_time": "2018-09-13T02:17:07.506460Z",
     "start_time": "2018-09-13T02:17:07.501468Z"
    }
   },
   "outputs": [
    {
     "data": {
      "text/plain": [
       "(70,)"
      ]
     },
     "execution_count": 102,
     "metadata": {},
     "output_type": "execute_result"
    }
   ],
   "source": [
    "anomaly_scores[anomaly_scores < 0].shape # How can anomaly scores (leaf depths) be negative?"
   ]
  },
  {
   "cell_type": "code",
   "execution_count": 103,
   "metadata": {
    "ExecuteTime": {
     "end_time": "2018-09-13T02:17:08.670623Z",
     "start_time": "2018-09-13T02:17:08.666673Z"
    }
   },
   "outputs": [],
   "source": [
    "original_paper_scores = [-1*s - .5 for s in anomaly_scores]"
   ]
  },
  {
   "cell_type": "markdown",
   "metadata": {},
   "source": [
    "### Visualization"
   ]
  },
  {
   "cell_type": "code",
   "execution_count": 108,
   "metadata": {
    "ExecuteTime": {
     "end_time": "2018-09-13T02:20:48.642230Z",
     "start_time": "2018-09-13T02:20:48.175145Z"
    }
   },
   "outputs": [
    {
     "data": {
      "image/png": "[encoded data removed]",
      "text/plain": [
       "<Figure size 1080x1080 with 1 Axes>"
      ]
     },
     "metadata": {},
     "output_type": "display_data"
    }
   ],
   "source": [
    "xx, yy = np.meshgrid(np.linspace(-5, 5, 50), np.linspace(-5, 5, 50))\n",
    "\n",
    "Z = model.decision_function(np.c_[xx.ravel(), yy.ravel()])\n",
    "Z = Z.reshape(xx.shape)\n",
    "\n",
    "plt.figure(figsize=(15,15))\n",
    "plt.title(\"Isolation Forest - Colors correspond to ground truths, not predictions\")\n",
    "plt.contourf(xx, yy, Z, cmap=plt.cm.Blues_r)\n",
    "# cm.Blues_r is inversion of cm.Blues\n",
    "# Could really use a colorbar here\n",
    "\n",
    "s = 30\n",
    "b1 = plt.scatter(X_train[:, 0], X_train[:, 1], c='white', s=s, edgecolor='black')\n",
    "b2 = plt.scatter(X_test_reg[:, 0], X_test_reg[:, 1], c='green', s=s, edgecolor='black')\n",
    "c = plt.scatter(X_test_anom[:, 0], X_test_anom[:, 1], c='red', s=s, edgecolor='black')\n",
    "\n",
    "plt.axis('tight')\n",
    "plt.xlim((-5, 5))\n",
    "plt.ylim((-5, 5))\n",
    "\n",
    "plt.legend([b1, b2, c],\n",
    "           [\"training samples\",\n",
    "            \"test samples, regular\", \"test samples, anomalous\"],\n",
    "           loc=\"upper left\")\n",
    "\n",
    "plt.show()"
   ]
  },
  {
   "cell_type": "markdown",
   "metadata": {},
   "source": [
    "## One-class SVM"
   ]
  },
  {
   "cell_type": "markdown",
   "metadata": {},
   "source": [
    "- **Using same synthetic data as before**\n",
    "- **Using Radial Basis Function as kernel**"
   ]
  },
  {
   "cell_type": "code",
   "execution_count": 63,
   "metadata": {
    "ExecuteTime": {
     "end_time": "2018-09-13T01:27:01.055058Z",
     "start_time": "2018-09-13T01:27:01.047480Z"
    }
   },
   "outputs": [],
   "source": [
    "from sklearn.svm import OneClassSVM"
   ]
  },
  {
   "cell_type": "code",
   "execution_count": 109,
   "metadata": {
    "ExecuteTime": {
     "end_time": "2018-09-13T02:21:22.408368Z",
     "start_time": "2018-09-13T02:21:22.405240Z"
    }
   },
   "outputs": [],
   "source": [
    "model = OneClassSVM(nu=0.1, kernel=\"rbf\", gamma=0.1, random_state=rng, verbose=1)\n",
    "# nu gives upper bound on fraction of training errors\n",
    "# rbf is *Radial Basis Function*\n",
    "# Why is gamma set to 0.1?"
   ]
  },
  {
   "cell_type": "code",
   "execution_count": 110,
   "metadata": {
    "ExecuteTime": {
     "end_time": "2018-09-13T02:21:23.344004Z",
     "start_time": "2018-09-13T02:21:23.337134Z"
    }
   },
   "outputs": [
    {
     "name": "stdout",
     "output_type": "stream",
     "text": [
      "[LibSVM]"
     ]
    },
    {
     "data": {
      "text/plain": [
       "OneClassSVM(cache_size=200, coef0=0.0, degree=3, gamma=0.1, kernel='rbf',\n",
       "      max_iter=-1, nu=0.1,\n",
       "      random_state=<mtrand.RandomState object at 0x1a136f3678>,\n",
       "      shrinking=True, tol=0.001, verbose=1)"
      ]
     },
     "execution_count": 110,
     "metadata": {},
     "output_type": "execute_result"
    }
   ],
   "source": [
    "model.fit(X_train)\n",
    "# sample_weight = None\n",
    "# No anomalies are present in training set"
   ]
  },
  {
   "cell_type": "code",
   "execution_count": 111,
   "metadata": {
    "ExecuteTime": {
     "end_time": "2018-09-13T02:21:24.624654Z",
     "start_time": "2018-09-13T02:21:24.620974Z"
    }
   },
   "outputs": [],
   "source": [
    "y_pred_train = model.predict(X_train)"
   ]
  },
  {
   "cell_type": "code",
   "execution_count": 112,
   "metadata": {
    "ExecuteTime": {
     "end_time": "2018-09-13T02:21:25.154988Z",
     "start_time": "2018-09-13T02:21:25.149672Z"
    }
   },
   "outputs": [
    {
     "data": {
      "text/plain": [
       "(array([-1,  1]), array([ 21, 179]))"
      ]
     },
     "execution_count": 112,
     "metadata": {},
     "output_type": "execute_result"
    }
   ],
   "source": [
    "np.unique(y_pred_train, return_counts=True)\n",
    "# Violates upper bound for error on training set..."
   ]
  },
  {
   "cell_type": "code",
   "execution_count": 113,
   "metadata": {
    "ExecuteTime": {
     "end_time": "2018-09-13T02:21:26.253329Z",
     "start_time": "2018-09-13T02:21:26.249793Z"
    }
   },
   "outputs": [],
   "source": [
    "y_pred_test_reg = model.predict(X_test_reg)"
   ]
  },
  {
   "cell_type": "code",
   "execution_count": 114,
   "metadata": {
    "ExecuteTime": {
     "end_time": "2018-09-13T02:21:26.987610Z",
     "start_time": "2018-09-13T02:21:26.982647Z"
    }
   },
   "outputs": [
    {
     "data": {
      "text/plain": [
       "(array([-1,  1]), array([ 7, 33]))"
      ]
     },
     "execution_count": 114,
     "metadata": {},
     "output_type": "execute_result"
    }
   ],
   "source": [
    "np.unique(y_pred_test_reg, return_counts=True) # 7 samples out of 40 mistakenly predicted as outliers"
   ]
  },
  {
   "cell_type": "code",
   "execution_count": 115,
   "metadata": {
    "ExecuteTime": {
     "end_time": "2018-09-13T02:21:27.641999Z",
     "start_time": "2018-09-13T02:21:27.638820Z"
    }
   },
   "outputs": [],
   "source": [
    "y_pred_test_anom = model.predict(X_test_anom)"
   ]
  },
  {
   "cell_type": "code",
   "execution_count": 116,
   "metadata": {
    "ExecuteTime": {
     "end_time": "2018-09-13T02:21:28.123875Z",
     "start_time": "2018-09-13T02:21:28.118112Z"
    }
   },
   "outputs": [
    {
     "data": {
      "text/plain": [
       "(array([-1,  1]), array([18,  2]))"
      ]
     },
     "execution_count": 116,
     "metadata": {},
     "output_type": "execute_result"
    }
   ],
   "source": [
    "np.unique(y_pred_test_anom, return_counts=True) # 2 samples out of 20 mistakenly predicted as inliers"
   ]
  },
  {
   "cell_type": "code",
   "execution_count": 117,
   "metadata": {
    "ExecuteTime": {
     "end_time": "2018-09-13T02:21:29.445881Z",
     "start_time": "2018-09-13T02:21:29.439772Z"
    }
   },
   "outputs": [
    {
     "data": {
      "text/plain": [
       "array([[-3.05686276],\n",
       "       [-5.64735709],\n",
       "       [-6.19633005],\n",
       "       [-5.85449189],\n",
       "       [-3.10304136],\n",
       "       [-3.04224601],\n",
       "       [-1.82971412],\n",
       "       [-6.02311725],\n",
       "       [-2.8447442 ],\n",
       "       [-1.55750418],\n",
       "       [-3.2258535 ],\n",
       "       [-6.52597974],\n",
       "       [-1.70490095],\n",
       "       [-8.60182273],\n",
       "       [-6.25097698],\n",
       "       [-6.49271191],\n",
       "       [-1.35446098],\n",
       "       [ 0.13283857],\n",
       "       [-0.10584809],\n",
       "       [ 0.12931564]])"
      ]
     },
     "execution_count": 117,
     "metadata": {},
     "output_type": "execute_result"
    }
   ],
   "source": [
    "model.decision_function(X_test_anom)\n",
    "# Signed distance is positive for a predicted inlier and negative for a predicted outlier.\n",
    "# The two misses are just barely positive."
   ]
  },
  {
   "cell_type": "code",
   "execution_count": 118,
   "metadata": {
    "ExecuteTime": {
     "end_time": "2018-09-13T02:21:30.117303Z",
     "start_time": "2018-09-13T02:21:30.113310Z"
    }
   },
   "outputs": [
    {
     "data": {
      "text/plain": [
       "array([-1, -1, -1, -1, -1, -1, -1, -1, -1, -1, -1, -1, -1, -1, -1, -1, -1,\n",
       "        1, -1,  1])"
      ]
     },
     "execution_count": 118,
     "metadata": {},
     "output_type": "execute_result"
    }
   ],
   "source": [
    "y_pred_test_anom"
   ]
  },
  {
   "cell_type": "markdown",
   "metadata": {},
   "source": [
    "### Visualization"
   ]
  },
  {
   "cell_type": "code",
   "execution_count": 121,
   "metadata": {
    "ExecuteTime": {
     "end_time": "2018-09-13T02:23:38.677902Z",
     "start_time": "2018-09-13T02:23:38.154920Z"
    }
   },
   "outputs": [
    {
     "data": {
      "image/png": "[encoded data removed]",
      "text/plain": [
       "<Figure size 1080x1080 with 1 Axes>"
      ]
     },
     "metadata": {},
     "output_type": "display_data"
    }
   ],
   "source": [
    "xx, yy = np.meshgrid(np.linspace(-5, 5, 500), np.linspace(-5, 5, 500))\n",
    "\n",
    "n_error_train = y_pred_train[y_pred_train == -1].size\n",
    "n_error_test_reg = y_pred_test_reg[y_pred_test_reg == -1].size\n",
    "n_error_test_anom = y_pred_test_anom[y_pred_test_anom == 1].size\n",
    "\n",
    "Z = model.decision_function(np.c_[xx.ravel(), yy.ravel()])\n",
    "Z = Z.reshape(xx.shape)\n",
    "\n",
    "plt.figure(figsize=(15,15))\n",
    "plt.title(\"Novelty Detection - Colors correspond to ground truths, not predictions\")\n",
    "# plt.contourf(xx, yy, Z, levels=np.linspace(Z.min(), 0, 7), cmap=plt.cm.PuBu)\n",
    "# linspace to enable partitioning\n",
    "# Z.min() is negative\n",
    "a = plt.contour(xx, yy, Z, levels=[0], linewidths=2, colors='red') # Zero level set of decision function\n",
    "plt.contourf(xx, yy, Z, levels=[0, Z.max()], colors='palevioletred')\n",
    "\n",
    "s = 40\n",
    "b1 = plt.scatter(X_train[:, 0], X_train[:, 1], c='white', s=s, edgecolors='black')\n",
    "b2 = plt.scatter(X_test_reg[:, 0], X_test_reg[:, 1], c='blue', s=s, edgecolors='black')\n",
    "c = plt.scatter(X_test_anom[:, 0], X_test_anom[:, 1], c='green', s=s, edgecolors='black')\n",
    "\n",
    "plt.axis('tight')\n",
    "plt.xlim((-5, 5))\n",
    "plt.ylim((-5, 5))\n",
    "\n",
    "plt.legend([a.collections[0], b1, b2, c],\n",
    "           [\"separating hyperplane\", \"training samples\",\n",
    "            \"test samples, regular\", \"test samples, anomalous\"],\n",
    "           loc=\"upper left\")\n",
    "\n",
    "plt.xlabel(\n",
    "    \"errors train: %d/200 ; errors test regular: %d/40 ; errors test anomalous: %d/20\"\n",
    "    % (n_error_train, n_error_test_reg, n_error_test_anom))\n",
    "\n",
    "plt.show()"
   ]
  }
 ],
 "metadata": {
  "hide_input": false,
  "kernelspec": {
   "display_name": "dspy3",
   "language": "python",
   "name": "dspy3"
  },
  "language_info": {
   "codemirror_mode": {
    "name": "ipython",
    "version": 3
   },
   "file_extension": ".py",
   "mimetype": "text/x-python",
   "name": "python",
   "nbconvert_exporter": "python",
   "pygments_lexer": "ipython3",
   "version": "3.6.5"
  },
  "toc": {
   "base_numbering": 1,
   "nav_menu": {},
   "number_sections": true,
   "sideBar": true,
   "skip_h1_title": false,
   "title_cell": "Table of Contents",
   "title_sidebar": "Contents",
   "toc_cell": false,
   "toc_position": {},
   "toc_section_display": true,
   "toc_window_display": true
  },
  "varInspector": {
   "cols": {
    "lenName": 16,
    "lenType": 16,
    "lenVar": 40
   },
   "kernels_config": {
    "python": {
     "delete_cmd_postfix": "",
     "delete_cmd_prefix": "del ",
     "library": "var_list.py",
     "varRefreshCmd": "print(var_dic_list())"
    },
    "r": {
     "delete_cmd_postfix": ") ",
     "delete_cmd_prefix": "rm(",
     "library": "var_list.r",
     "varRefreshCmd": "cat(var_dic_list()) "
    }
   },
   "types_to_exclude": [
    "module",
    "function",
    "builtin_function_or_method",
    "instance",
    "_Feature"
   ],
   "window_display": false
  }
 },
 "nbformat": 4,
 "nbformat_minor": 2
}
